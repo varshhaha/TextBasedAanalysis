{
 "cells": [
  {
   "cell_type": "markdown",
   "id": "ffc4cca4",
   "metadata": {},
   "source": [
    "# string operation\n"
   ]
  },
  {
   "cell_type": "code",
   "execution_count": 23,
   "id": "270ceaf7",
   "metadata": {},
   "outputs": [
    {
     "name": "stdout",
     "output_type": "stream",
     "text": [
      "11\n"
     ]
    }
   ],
   "source": [
    "\n",
    "#assigning a string \n",
    "a=\"Virat Kohli\"\n",
    "print(len(a))"
   ]
  },
  {
   "cell_type": "code",
   "execution_count": 24,
   "id": "48ee81a7-a947-4b6f-9b07-202310b4803a",
   "metadata": {},
   "outputs": [
    {
     "name": "stdout",
     "output_type": "stream",
     "text": [
      "ViratKohli\n"
     ]
    }
   ],
   "source": [
    "\n",
    "#Assigning new string to variable 'a' and 'b'\n",
    "a=\"Virat\"\n",
    "b=\"Kohli\"\n",
    "c=a+\"\"+b\n",
    "print(c)"
   ]
  },
  {
   "cell_type": "code",
   "execution_count": 25,
   "id": "9dbdbc12-6687-4c24-b256-9e2ea8288cbd",
   "metadata": {},
   "outputs": [
    {
     "name": "stdout",
     "output_type": "stream",
     "text": [
      "e\n"
     ]
    }
   ],
   "source": [
    "#Accessing individual letters in a string\n",
    "a=\"Hello, World!\"\n",
    "print(a[1])"
   ]
  },
  {
   "cell_type": "code",
   "execution_count": 26,
   "id": "344dcf45",
   "metadata": {},
   "outputs": [
    {
     "name": "stdout",
     "output_type": "stream",
     "text": [
      "Hello, \n"
     ]
    }
   ],
   "source": [
    "#Prints starting to range 7\n",
    "print(a[:7])"
   ]
  },
  {
   "cell_type": "code",
   "execution_count": 27,
   "id": "36405406-53ed-4369-b0ec-0d55355bce91",
   "metadata": {},
   "outputs": [
    {
     "name": "stdout",
     "output_type": "stream",
     "text": [
      "hello, world!\n"
     ]
    }
   ],
   "source": [
    "#Print all the string in upper\n",
    "print(a.lower())"
   ]
  },
  {
   "cell_type": "code",
   "execution_count": 28,
   "id": "c5bb57e4-e19f-44a0-93e7-e16e7c3c76c4",
   "metadata": {},
   "outputs": [
    {
     "name": "stdout",
     "output_type": "stream",
     "text": [
      "Hello, World!\n"
     ]
    }
   ],
   "source": [
    "#Print all the string in lower\n",
    "print (a.lstrip())"
   ]
  },
  {
   "cell_type": "raw",
   "id": "d6a323d2-9658-4102-b970-206d4c6ab9b5",
   "metadata": {},
   "source": []
  },
  {
   "cell_type": "code",
   "execution_count": 29,
   "id": "93eeeda0",
   "metadata": {},
   "outputs": [
    {
     "name": "stdout",
     "output_type": "stream",
     "text": [
      "Hello, World!\n"
     ]
    }
   ],
   "source": [
    "#Replace the substring with new\n",
    "print(a.replace(\"hello\",\"\"))"
   ]
  },
  {
   "cell_type": "code",
   "execution_count": 30,
   "id": "a65c66d1-038d-4f05-84a8-5148d6827e1d",
   "metadata": {},
   "outputs": [
    {
     "data": {
      "text/plain": [
       "' hello us'"
      ]
     },
     "execution_count": 30,
     "metadata": {},
     "output_type": "execute_result"
    }
   ],
   "source": [
    "a=\"//// hello us\"\n",
    "#Return a copy of the string without '/'\n",
    "a.lstrip('/')"
   ]
  },
  {
   "cell_type": "code",
   "execution_count": 31,
   "id": "605d2789-0826-4b9c-bd8e-760c76b08b93",
   "metadata": {},
   "outputs": [
    {
     "data": {
      "text/plain": [
       "True"
      ]
     },
     "execution_count": 31,
     "metadata": {},
     "output_type": "execute_result"
    }
   ],
   "source": [
    "#Assigning new string\n",
    "a= \"sacred heart\"\n",
    "#checks if the string ends with substring\n",
    "a.endswith(\"heart\")"
   ]
  },
  {
   "cell_type": "code",
   "execution_count": 32,
   "id": "571b27e1",
   "metadata": {},
   "outputs": [
    {
     "data": {
      "text/plain": [
       "False"
      ]
     },
     "execution_count": 32,
     "metadata": {},
     "output_type": "execute_result"
    }
   ],
   "source": [
    "#checks if the string starts with substring\n",
    "a.startswith(\"good morning\")"
   ]
  },
  {
   "cell_type": "code",
   "execution_count": 33,
   "id": "1a29d1f5",
   "metadata": {},
   "outputs": [
    {
     "data": {
      "text/plain": [
       "7"
      ]
     },
     "execution_count": 33,
     "metadata": {},
     "output_type": "execute_result"
    }
   ],
   "source": [
    "#searches for substring within the string\n",
    "a.find(\"heart\")"
   ]
  },
  {
   "cell_type": "code",
   "execution_count": 18,
   "id": "b7062d0e",
   "metadata": {},
   "outputs": [
    {
     "data": {
      "text/plain": [
       "['you', 'only', 'live', 'once']"
      ]
     },
     "execution_count": 18,
     "metadata": {},
     "output_type": "execute_result"
    }
   ],
   "source": [
    "#Spliting the string\n",
    "a=\"you only live once\"\n",
    "a.split()"
   ]
  },
  {
   "cell_type": "code",
   "execution_count": 34,
   "id": "1ab7dac0-08a1-471c-84a4-71fddf604e1a",
   "metadata": {},
   "outputs": [
    {
     "data": {
      "text/plain": [
       "'united states of america'"
      ]
     },
     "execution_count": 34,
     "metadata": {},
     "output_type": "execute_result"
    }
   ],
   "source": [
    "#removing the leading whitespaces in the string\n",
    "c= \"   united states of america\"\n",
    "c.lstrip()"
   ]
  },
  {
   "cell_type": "code",
   "execution_count": 35,
   "id": "43503907-8ca1-4616-92ce-30d3b9f292f1",
   "metadata": {},
   "outputs": [
    {
     "data": {
      "text/plain": [
       "0"
      ]
     },
     "execution_count": 35,
     "metadata": {},
     "output_type": "execute_result"
    }
   ],
   "source": [
    "#returns the index of the first occurrence of the specified substring within the string.\n",
    "a= \"Marvel heroes of nation\"\n",
    "a.find(\"Marvel\")"
   ]
  },
  {
   "cell_type": "code",
   "execution_count": 36,
   "id": "77ad3df2-1cee-4240-a6ad-0aff481dcb2f",
   "metadata": {},
   "outputs": [
    {
     "data": {
      "text/plain": [
       "'you only life once'"
      ]
     },
     "execution_count": 36,
     "metadata": {},
     "output_type": "execute_result"
    }
   ],
   "source": [
    "#replacing the substring\n",
    "a=\"you only live once\"\n",
    "a.replace('live','life')"
   ]
  },
  {
   "cell_type": "code",
   "execution_count": 37,
   "id": "df6d3c94-77c3-4b8c-987b-ae4faf923543",
   "metadata": {},
   "outputs": [
    {
     "data": {
      "text/plain": [
       "['laughing', 'is', 'the', 'best', 'medicine']"
      ]
     },
     "execution_count": 37,
     "metadata": {},
     "output_type": "execute_result"
    }
   ],
   "source": [
    "#splitting the string\n",
    "a=\"laughing is the best medicine\"\n",
    "a.split()"
   ]
  },
  {
   "cell_type": "code",
   "execution_count": 40,
   "id": "442235be-fb11-4dad-a03b-9fca99c48b4f",
   "metadata": {},
   "outputs": [
    {
     "data": {
      "text/plain": [
       "['one', 'two', 'three']"
      ]
     },
     "execution_count": 40,
     "metadata": {},
     "output_type": "execute_result"
    }
   ],
   "source": [
    "#splitting the string into substrings\n",
    "my_string='one two three'\n",
    "my_list= my_string.split()\n",
    "my_list"
   ]
  },
  {
   "cell_type": "markdown",
   "id": "ac9bf808",
   "metadata": {},
   "source": []
  },
  {
   "cell_type": "code",
   "execution_count": null,
   "id": "82f9a5ae-1804-4a07-adc1-a0c300b69541",
   "metadata": {},
   "outputs": [],
   "source": []
  },
  {
   "cell_type": "code",
   "execution_count": null,
   "id": "808050a2-d924-45a4-8b98-a0ce212ca58c",
   "metadata": {},
   "outputs": [],
   "source": []
  }
 ],
 "metadata": {
  "kernelspec": {
   "display_name": "Python 3 (ipykernel)",
   "language": "python",
   "name": "python3"
  },
  "language_info": {
   "codemirror_mode": {
    "name": "ipython",
    "version": 3
   },
   "file_extension": ".py",
   "mimetype": "text/x-python",
   "name": "python",
   "nbconvert_exporter": "python",
   "pygments_lexer": "ipython3",
   "version": "3.10.9"
  }
 },
 "nbformat": 4,
 "nbformat_minor": 5
}
