{
 "cells": [
  {
   "cell_type": "markdown",
   "id": "3c6cb487",
   "metadata": {},
   "source": [
    "# Opening the file"
   ]
  },
  {
   "cell_type": "code",
   "execution_count": 115,
   "id": "c8da4cd3",
   "metadata": {},
   "outputs": [
    {
     "data": {
      "text/html": [
       "<div>\n",
       "<style scoped>\n",
       "    .dataframe tbody tr th:only-of-type {\n",
       "        vertical-align: middle;\n",
       "    }\n",
       "\n",
       "    .dataframe tbody tr th {\n",
       "        vertical-align: top;\n",
       "    }\n",
       "\n",
       "    .dataframe thead th {\n",
       "        text-align: right;\n",
       "    }\n",
       "</style>\n",
       "<table border=\"1\" class=\"dataframe\">\n",
       "  <thead>\n",
       "    <tr style=\"text-align: right;\">\n",
       "      <th></th>\n",
       "      <th>Yelp URL</th>\n",
       "      <th>Rating</th>\n",
       "      <th>Year</th>\n",
       "      <th>Review Text</th>\n",
       "    </tr>\n",
       "  </thead>\n",
       "  <tbody>\n",
       "    <tr>\n",
       "      <th>12729</th>\n",
       "      <td>https://www.yelp.com/biz/batch-bakehouse-madison</td>\n",
       "      <td>4</td>\n",
       "      <td>2/21/2017</td>\n",
       "      <td>There are a few things I like about this Baker...</td>\n",
       "    </tr>\n",
       "    <tr>\n",
       "      <th>527</th>\n",
       "      <td>https://www.yelp.com/biz/carlos-bakery-las-veg...</td>\n",
       "      <td>1</td>\n",
       "      <td>06-03-2017</td>\n",
       "      <td>Had really high expectations from this brand n...</td>\n",
       "    </tr>\n",
       "    <tr>\n",
       "      <th>19532</th>\n",
       "      <td>https://www.yelp.com/biz/hopscotch-champaign</td>\n",
       "      <td>3</td>\n",
       "      <td>02-12-2018</td>\n",
       "      <td>Very very nice coffee shop to hang out at and ...</td>\n",
       "    </tr>\n",
       "    <tr>\n",
       "      <th>674</th>\n",
       "      <td>https://www.yelp.com/biz/carlos-bakery-las-veg...</td>\n",
       "      <td>2</td>\n",
       "      <td>2/17/2019</td>\n",
       "      <td>Went to carlos for the first time and purchase...</td>\n",
       "    </tr>\n",
       "    <tr>\n",
       "      <th>17700</th>\n",
       "      <td>https://www.yelp.com/biz/masons-creamery-cleve...</td>\n",
       "      <td>5</td>\n",
       "      <td>5/15/2016</td>\n",
       "      <td>Probably should have updated this last year- b...</td>\n",
       "    </tr>\n",
       "    <tr>\n",
       "      <th>15977</th>\n",
       "      <td>https://www.yelp.com/biz/churn-phoenix-3</td>\n",
       "      <td>5</td>\n",
       "      <td>7/29/2013</td>\n",
       "      <td>I'm not a big ice cream fan but I absolutely L...</td>\n",
       "    </tr>\n",
       "    <tr>\n",
       "      <th>18313</th>\n",
       "      <td>https://www.yelp.com/biz/pages-pittsburgh</td>\n",
       "      <td>5</td>\n",
       "      <td>8/25/2017</td>\n",
       "      <td>This place is a GEM! Only open during 'ice cre...</td>\n",
       "    </tr>\n",
       "    <tr>\n",
       "      <th>13787</th>\n",
       "      <td>https://www.yelp.com/biz/milk-bar-las-vegas-la...</td>\n",
       "      <td>3</td>\n",
       "      <td>5/22/2018</td>\n",
       "      <td>If you enjoy milk and cereal from Afters in Ca...</td>\n",
       "    </tr>\n",
       "    <tr>\n",
       "      <th>9986</th>\n",
       "      <td>https://www.yelp.com/biz/melt-phoenix</td>\n",
       "      <td>1</td>\n",
       "      <td>07-01-2021</td>\n",
       "      <td>The level of customer service has really gone ...</td>\n",
       "    </tr>\n",
       "    <tr>\n",
       "      <th>10167</th>\n",
       "      <td>https://www.yelp.com/biz/melt-phoenix</td>\n",
       "      <td>5</td>\n",
       "      <td>1/31/2015</td>\n",
       "      <td>Tried the snicker doodle once scoop icecream. ...</td>\n",
       "    </tr>\n",
       "  </tbody>\n",
       "</table>\n",
       "</div>"
      ],
      "text/plain": [
       "                                                Yelp URL  Rating        Year  \\\n",
       "12729   https://www.yelp.com/biz/batch-bakehouse-madison       4   2/21/2017   \n",
       "527    https://www.yelp.com/biz/carlos-bakery-las-veg...       1  06-03-2017   \n",
       "19532       https://www.yelp.com/biz/hopscotch-champaign       3  02-12-2018   \n",
       "674    https://www.yelp.com/biz/carlos-bakery-las-veg...       2   2/17/2019   \n",
       "17700  https://www.yelp.com/biz/masons-creamery-cleve...       5   5/15/2016   \n",
       "15977           https://www.yelp.com/biz/churn-phoenix-3       5   7/29/2013   \n",
       "18313          https://www.yelp.com/biz/pages-pittsburgh       5   8/25/2017   \n",
       "13787  https://www.yelp.com/biz/milk-bar-las-vegas-la...       3   5/22/2018   \n",
       "9986               https://www.yelp.com/biz/melt-phoenix       1  07-01-2021   \n",
       "10167              https://www.yelp.com/biz/melt-phoenix       5   1/31/2015   \n",
       "\n",
       "                                             Review Text  \n",
       "12729  There are a few things I like about this Baker...  \n",
       "527    Had really high expectations from this brand n...  \n",
       "19532  Very very nice coffee shop to hang out at and ...  \n",
       "674    Went to carlos for the first time and purchase...  \n",
       "17700  Probably should have updated this last year- b...  \n",
       "15977  I'm not a big ice cream fan but I absolutely L...  \n",
       "18313  This place is a GEM! Only open during 'ice cre...  \n",
       "13787  If you enjoy milk and cereal from Afters in Ca...  \n",
       "9986   The level of customer service has really gone ...  \n",
       "10167  Tried the snicker doodle once scoop icecream. ...  "
      ]
     },
     "execution_count": 115,
     "metadata": {},
     "output_type": "execute_result"
    }
   ],
   "source": [
    "import pandas as pd \n",
    "data=\"C:\\\\Users\\\\varsh\\\\Downloads\\\\yelp Restaurent reviews.csv\"\n",
    "# reading the fie and print\n",
    "df = pd.read_csv(data)\n",
    "df.sample(10)"
   ]
  },
  {
   "cell_type": "markdown",
   "id": "d54dce5d",
   "metadata": {},
   "source": [
    "# Getting the Bing Liu Lexicon"
   ]
  },
  {
   "cell_type": "code",
   "execution_count": 116,
   "id": "28a59da9",
   "metadata": {},
   "outputs": [
    {
     "name": "stderr",
     "output_type": "stream",
     "text": [
      "[nltk_data] Downloading package opinion_lexicon to\n",
      "[nltk_data]     C:\\Users\\varsh\\AppData\\Roaming\\nltk_data...\n",
      "[nltk_data]   Package opinion_lexicon is already up-to-date!\n"
     ]
    }
   ],
   "source": [
    "from sklearn import preprocessing\n",
    "import nltk# Import the Natural Language Toolkit library\n",
    "nltk.download('opinion_lexicon')\n",
    "# Load positive and negative words from the opinion lexicon\n",
    "from nltk.corpus import opinion_lexicon\n",
    "from nltk.tokenize import word_tokenize"
   ]
  },
  {
   "cell_type": "code",
   "execution_count": 117,
   "id": "10af58c1",
   "metadata": {},
   "outputs": [
    {
     "name": "stdout",
     "output_type": "stream",
     "text": [
      "Total number of words in opinion lexicon 6789\n",
      "Examples of positive words in opinion lexicon ['a+', 'abound', 'abounds', 'abundance', 'abundant', 'accessable', 'accessible', 'acclaim', 'acclaimed', 'acclamation']\n",
      "Examples of negative words in opinion lexicon ['2-faced', '2-faces', 'abnormal', 'abolish', 'abominable', 'abominably', 'abominate', 'abomination', 'abort', 'aborted']\n"
     ]
    }
   ],
   "source": [
    "# Print the total number of words in the opinion lexicon\n",
    "print('Total number of words in opinion lexicon', len(opinion_lexicon.words()))\n",
    "print('Examples of positive words in opinion lexicon',\n",
    "opinion_lexicon.positive()[:10])\n",
    "print('Examples of negative words in opinion lexicon',\n",
    "opinion_lexicon.negative()[:10])"
   ]
  },
  {
   "cell_type": "code",
   "execution_count": 118,
   "id": "b2f3e20e",
   "metadata": {},
   "outputs": [
    {
     "name": "stderr",
     "output_type": "stream",
     "text": [
      "[nltk_data] Downloading package punkt to\n",
      "[nltk_data]     C:\\Users\\varsh\\AppData\\Roaming\\nltk_data...\n",
      "[nltk_data]   Package punkt is already up-to-date!\n"
     ]
    }
   ],
   "source": [
    "# Let's create a dictionary which we can use for scoring our review text\n",
    "nltk.download('punkt')\n",
    "df.rename(columns={\"Review Text\": \"text\"}, inplace=True)\n",
    "pos_score = 1\n",
    "neg_score = -1\n",
    "word_dict = {}"
   ]
  },
  {
   "cell_type": "code",
   "execution_count": 119,
   "id": "66b9d88d",
   "metadata": {},
   "outputs": [],
   "source": [
    "# Adding the positive words to the dictionary\n",
    "for word in opinion_lexicon.positive():\n",
    " word_dict[word] = pos_score\n",
    "# Adding the negative words to the dictionary\n",
    "for word in opinion_lexicon.negative():\n",
    " word_dict[word] = neg_score"
   ]
  },
  {
   "cell_type": "markdown",
   "id": "b97bb950",
   "metadata": {},
   "source": [
    "# Function to do math"
   ]
  },
  {
   "cell_type": "code",
   "execution_count": 120,
   "id": "5ac928be",
   "metadata": {},
   "outputs": [],
   "source": [
    "def bing_liu_score(text):\n",
    "# Function to calculate sentiment score based on a predefined dictionary of word sentiment scores.\n",
    "    sentiment_score = 0\n",
    "    bag_of_words = word_tokenize(text)\n",
    "    for word in bag_of_words:\n",
    "        if word in word_dict:\n",
    "            sentiment_score += word_dict[word]\n",
    "    return sentiment_score"
   ]
  },
  {
   "cell_type": "markdown",
   "id": "1e4c694e",
   "metadata": {},
   "source": [
    "# Making sure all texts are non empty and are type text then call the function"
   ]
  },
  {
   "cell_type": "code",
   "execution_count": 124,
   "id": "f68cd361",
   "metadata": {},
   "outputs": [],
   "source": [
    "# Fill missing values in the 'text' column with 'no review'\n",
    "df['text'].fillna('no review', inplace=True)\n",
    "df['Bing_Liu_Score'] = df['text'].apply(bing_liu_score)\n"
   ]
  },
  {
   "cell_type": "code",
   "execution_count": 125,
   "id": "2fd66474",
   "metadata": {},
   "outputs": [
    {
     "data": {
      "text/html": [
       "<div>\n",
       "<style scoped>\n",
       "    .dataframe tbody tr th:only-of-type {\n",
       "        vertical-align: middle;\n",
       "    }\n",
       "\n",
       "    .dataframe tbody tr th {\n",
       "        vertical-align: top;\n",
       "    }\n",
       "\n",
       "    .dataframe thead th {\n",
       "        text-align: right;\n",
       "    }\n",
       "</style>\n",
       "<table border=\"1\" class=\"dataframe\">\n",
       "  <thead>\n",
       "    <tr style=\"text-align: right;\">\n",
       "      <th></th>\n",
       "      <th>Rating</th>\n",
       "      <th>text</th>\n",
       "      <th>Bing_Liu_Score</th>\n",
       "    </tr>\n",
       "  </thead>\n",
       "  <tbody>\n",
       "    <tr>\n",
       "      <th>0</th>\n",
       "      <td>5</td>\n",
       "      <td>All I can say is they have very good ice cream...</td>\n",
       "      <td>3</td>\n",
       "    </tr>\n",
       "    <tr>\n",
       "      <th>1</th>\n",
       "      <td>4</td>\n",
       "      <td>Nice little local place for ice cream.My favor...</td>\n",
       "      <td>4</td>\n",
       "    </tr>\n",
       "    <tr>\n",
       "      <th>2</th>\n",
       "      <td>5</td>\n",
       "      <td>A delicious treat on a hot day! Staff was very...</td>\n",
       "      <td>4</td>\n",
       "    </tr>\n",
       "    <tr>\n",
       "      <th>3</th>\n",
       "      <td>4</td>\n",
       "      <td>This was great service and a fun crew! I got t...</td>\n",
       "      <td>7</td>\n",
       "    </tr>\n",
       "    <tr>\n",
       "      <th>4</th>\n",
       "      <td>5</td>\n",
       "      <td>This is one of my favorite places to get ice c...</td>\n",
       "      <td>10</td>\n",
       "    </tr>\n",
       "  </tbody>\n",
       "</table>\n",
       "</div>"
      ],
      "text/plain": [
       "   Rating                                               text  Bing_Liu_Score\n",
       "0       5  All I can say is they have very good ice cream...               3\n",
       "1       4  Nice little local place for ice cream.My favor...               4\n",
       "2       5  A delicious treat on a hot day! Staff was very...               4\n",
       "3       4  This was great service and a fun crew! I got t...               7\n",
       "4       5  This is one of my favorite places to get ice c...              10"
      ]
     },
     "execution_count": 125,
     "metadata": {},
     "output_type": "execute_result"
    }
   ],
   "source": [
    "df[['Rating',\"text\", 'Bing_Liu_Score']].head()"
   ]
  },
  {
   "cell_type": "code",
   "execution_count": 126,
   "id": "825e45c0",
   "metadata": {},
   "outputs": [
    {
     "data": {
      "text/html": [
       "<div>\n",
       "<style scoped>\n",
       "    .dataframe tbody tr th:only-of-type {\n",
       "        vertical-align: middle;\n",
       "    }\n",
       "\n",
       "    .dataframe tbody tr th {\n",
       "        vertical-align: top;\n",
       "    }\n",
       "\n",
       "    .dataframe thead th {\n",
       "        text-align: right;\n",
       "    }\n",
       "</style>\n",
       "<table border=\"1\" class=\"dataframe\">\n",
       "  <thead>\n",
       "    <tr style=\"text-align: right;\">\n",
       "      <th></th>\n",
       "      <th>Bing_Liu_Score</th>\n",
       "    </tr>\n",
       "    <tr>\n",
       "      <th>Rating</th>\n",
       "      <th></th>\n",
       "    </tr>\n",
       "  </thead>\n",
       "  <tbody>\n",
       "    <tr>\n",
       "      <th>1</th>\n",
       "      <td>0.235004</td>\n",
       "    </tr>\n",
       "    <tr>\n",
       "      <th>2</th>\n",
       "      <td>1.727344</td>\n",
       "    </tr>\n",
       "    <tr>\n",
       "      <th>3</th>\n",
       "      <td>3.338811</td>\n",
       "    </tr>\n",
       "    <tr>\n",
       "      <th>4</th>\n",
       "      <td>4.411289</td>\n",
       "    </tr>\n",
       "    <tr>\n",
       "      <th>5</th>\n",
       "      <td>4.187908</td>\n",
       "    </tr>\n",
       "  </tbody>\n",
       "</table>\n",
       "</div>"
      ],
      "text/plain": [
       "        Bing_Liu_Score\n",
       "Rating                \n",
       "1             0.235004\n",
       "2             1.727344\n",
       "3             3.338811\n",
       "4             4.411289\n",
       "5             4.187908"
      ]
     },
     "execution_count": 126,
     "metadata": {},
     "output_type": "execute_result"
    }
   ],
   "source": [
    "df.groupby('Rating').agg({'Bing_Liu_Score':'mean'})"
   ]
  },
  {
   "cell_type": "code",
   "execution_count": null,
   "id": "74b991d0",
   "metadata": {},
   "outputs": [],
   "source": []
  },
  {
   "cell_type": "code",
   "execution_count": null,
   "id": "3c6a9b05",
   "metadata": {},
   "outputs": [],
   "source": []
  },
  {
   "cell_type": "code",
   "execution_count": null,
   "id": "11cf80a2",
   "metadata": {},
   "outputs": [],
   "source": []
  }
 ],
 "metadata": {
  "kernelspec": {
   "display_name": "Python 3 (ipykernel)",
   "language": "python",
   "name": "python3"
  },
  "language_info": {
   "codemirror_mode": {
    "name": "ipython",
    "version": 3
   },
   "file_extension": ".py",
   "mimetype": "text/x-python",
   "name": "python",
   "nbconvert_exporter": "python",
   "pygments_lexer": "ipython3",
   "version": "3.10.9"
  }
 },
 "nbformat": 4,
 "nbformat_minor": 5
}
