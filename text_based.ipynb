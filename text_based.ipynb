{
 "cells": [
  {
   "cell_type": "markdown",
   "id": "1e664d10",
   "metadata": {},
   "source": [
    "# Basic string operations"
   ]
  },
  {
   "cell_type": "code",
   "execution_count": 1,
   "id": "d3d0d418",
   "metadata": {},
   "outputs": [
    {
     "data": {
      "text/plain": [
       "'Good Morning'"
      ]
     },
     "execution_count": 1,
     "metadata": {},
     "output_type": "execute_result"
    }
   ],
   "source": [
    "#Assigning string to a variable 'stg'\n",
    "stg = \"Good Morning\"\n",
    "#print the string\n",
    "stg"
   ]
  },
  {
   "cell_type": "markdown",
   "id": "29441886",
   "metadata": {},
   "source": [
    "# String indexing\n",
    " \n"
   ]
  },
  {
   "cell_type": "code",
   "execution_count": 6,
   "id": "c0bb2ed3",
   "metadata": {},
   "outputs": [
    {
     "name": "stdout",
     "output_type": "stream",
     "text": [
      "o\n",
      "y\n"
     ]
    }
   ],
   "source": [
    "#Assigning string to variable 'a'\n",
    "a = \"Hello how are you?\"\n",
    "\n",
    "#printing index of 4\n",
    "print(a[4])\n",
    "\n",
    "#printing index of -4\n",
    "print(a[-4])"
   ]
  },
  {
   "cell_type": "markdown",
   "id": "90f77c92",
   "metadata": {},
   "source": [
    "# string slicing"
   ]
  },
  {
   "cell_type": "code",
   "execution_count": 8,
   "id": "6f5b31de",
   "metadata": {},
   "outputs": [
    {
     "name": "stdout",
     "output_type": "stream",
     "text": [
      "Hello \n",
      "Hello all\n"
     ]
    }
   ],
   "source": [
    "#Assigning string to variable 'b'\n",
    "b = \"Hello all\"\n",
    "# prints from start to index 6\n",
    "print(b[0:6]) \n",
    "\n",
    "#prints from start to end\n",
    "print(b[0:])\n"
   ]
  },
  {
   "cell_type": "markdown",
   "id": "8bb68044",
   "metadata": {},
   "source": [
    "# string methods"
   ]
  },
  {
   "cell_type": "code",
   "execution_count": 9,
   "id": "9f10ef10",
   "metadata": {},
   "outputs": [
    {
     "name": "stdout",
     "output_type": "stream",
     "text": [
      "False\n",
      "False\n",
      "True\n"
     ]
    }
   ],
   "source": [
    "#Checking if the string contains only whitespace characters\n",
    "# Prints True if it contains whitespace or false if not  \n",
    "print(b.isspace())\n",
    "\n",
    "# Checking if the string contains only numeric digits\n",
    "#Prints true if it contains only numeric or false\n",
    "print(b.isdigit())\n",
    "      \n",
    "#Assigning new string\n",
    "\n",
    "c = \"7731945745\"\n",
    "#Prints true if it contains only aplabetic letters or digits\n",
    "print(c.isalnum())"
   ]
  },
  {
   "cell_type": "code",
   "execution_count": 10,
   "id": "d8ca7ac1",
   "metadata": {},
   "outputs": [
    {
     "name": "stdout",
     "output_type": "stream",
     "text": [
      "0\n",
      "3\n"
     ]
    }
   ],
   "source": [
    "## String method find(substring)\n",
    "\n",
    "#assigning a string to variable 'var'\n",
    "var = \"varsha rangaraju\"\n",
    "\n",
    "# Returns lowest index of the substring\n",
    "print(var.find('va'))\n",
    "\n",
    "print(var.find('sh'))\n",
    "\n"
   ]
  },
  {
   "cell_type": "code",
   "execution_count": 11,
   "id": "dff40666",
   "metadata": {},
   "outputs": [
    {
     "name": "stdout",
     "output_type": "stream",
     "text": [
      "varsha varsha\n"
     ]
    }
   ],
   "source": [
    "#Assinging string in var1\n",
    "var1 = \"varsha rangaraju\"\n",
    "#replacing the substring with new one\n",
    "print(var1.replace(\"rangaraju\", \"varsha\")) \n",
    "#prints sowkya bindu replaces rangaraju with varsha"
   ]
  },
  {
   "cell_type": "code",
   "execution_count": 12,
   "id": "c94c9c89",
   "metadata": {},
   "outputs": [
    {
     "name": "stdout",
     "output_type": "stream",
     "text": [
      "varsha rangarajuvarsha rangarajuvarsha rangarajuvarsha rangaraju\n"
     ]
    }
   ],
   "source": [
    "#Repetition of the string\n",
    "\n",
    "#This makes multiple copies of a string and joins them together\n",
    "print(var*4)"
   ]
  },
  {
   "cell_type": "code",
   "execution_count": 13,
   "id": "0351c19f",
   "metadata": {},
   "outputs": [
    {
     "name": "stdout",
     "output_type": "stream",
     "text": [
      "['glenn mark', ' stephan', 'Damon', 'Elena']\n",
      "['4', '7', '12', '19', '27']\n"
     ]
    }
   ],
   "source": [
    "#Splitting of the string\n",
    "# Assinging a new string with some names\n",
    "names = \"glenn mark, stephan,Damon,Elena\"\n",
    "\n",
    "#Returns a list containing the words in the string\n",
    "print(names.split(\",\"))\n",
    "\n",
    "# Assigning new string with numbers \n",
    "string = '4/7/12/19/27'\n",
    "\n",
    "#Returns a list containing the numbers in the string\n",
    "list = string.split('/')\n",
    "print(list)"
   ]
  },
  {
   "cell_type": "markdown",
   "id": "50a2915d",
   "metadata": {},
   "source": [
    "# REGEX MODELS"
   ]
  },
  {
   "cell_type": "code",
   "execution_count": 14,
   "id": "8aca4fdc",
   "metadata": {},
   "outputs": [
    {
     "name": "stdout",
     "output_type": "stream",
     "text": [
      "['y country']\n"
     ]
    }
   ],
   "source": [
    "## regex 1\n",
    "# Import the regex module\n",
    "import regex as re\n",
    "\n",
    "# Define the tokenize function\n",
    "def tokenize(text):\n",
    "    # Use regular expressions to find all occurrences of the pattern '..other'\n",
    "    return re.findall(r'..country', text)\n",
    "\n",
    "# Call the tokenize function with the sample text\n",
    "x = tokenize(\"india is my country\")\n",
    "print(x)"
   ]
  },
  {
   "cell_type": "code",
   "execution_count": 49,
   "id": "f9b5c613",
   "metadata": {},
   "outputs": [
    {
     "name": "stdout",
     "output_type": "stream",
     "text": [
      "None\n"
     ]
    }
   ],
   "source": [
    "#regex \n",
    "import regex as re\n",
    "\n",
    "# Define the tokenize function\n",
    "def tokenize(text, pattern):\n",
    "    # Use re.match() to find the first occurrence of the pattern at the beginning of the text\n",
    "    match = re.match(fr'^{pattern}', text, flags=re.IGNORECASE)\n",
    "    return match\n",
    "\n",
    "\n",
    "# Define the new sample text and pattern\n",
    "text = \"cat sat on a mat\"\n",
    "pattern = \"a\"\n",
    "\n",
    "# Call the tokenize function and store the result in the match_result variable\n",
    "match_result = tokenize(text, pattern)\n",
    "print(match_result)\n"
   ]
  },
  {
   "cell_type": "code",
   "execution_count": 50,
   "id": "87c8c584",
   "metadata": {},
   "outputs": [
    {
     "name": "stdout",
     "output_type": "stream",
     "text": [
      "['mat']\n"
     ]
    }
   ],
   "source": [
    "#regex\n",
    "import regex as re\n",
    "\n",
    "def tokenize(text):\n",
    "    # Use re.findall() to find all occurrences of the pattern 'mat' in the text\n",
    "    # Find 'mat' pattern, case-insensitive\n",
    "    return re.findall(r'\\bmat\\b', text, flags=re.IGNORECASE)\n",
    "\n",
    "# Define the new sample text\n",
    "text = \"cat sat on a mat ate a fat rat\"\n",
    "\n",
    "# Call the tokenize function and store the result in variable y\n",
    "y = tokenize(text)\n",
    "print(y)\n"
   ]
  },
  {
   "cell_type": "code",
   "execution_count": 44,
   "id": "278f2564",
   "metadata": {},
   "outputs": [
    {
     "name": "stdout",
     "output_type": "stream",
     "text": [
      "['a', 'ate', 'a']\n"
     ]
    }
   ],
   "source": [
    "#regex\n",
    "import regex as re\n",
    "\n",
    "def tokenize(text):\n",
    "    # Use re.findall() to find all occurrences of words starting with 'a' in the text\n",
    "    # The re.MULTILINE flag enables multiline matching\n",
    "    # Find words starting with 'a', multiline and case-insensitive\n",
    "    return re.findall(r'\\ba\\w*', text, flags=re.IGNORECASE)\n",
    "\n",
    "# Define the new sample text\n",
    "text = \"cat sat on a mat ate a fat rat\"\n",
    "\n",
    "# Call the tokenize function and store the result in variable y\n",
    "y = tokenize(text)\n",
    "print(y)\n"
   ]
  },
  {
   "cell_type": "code",
   "execution_count": 43,
   "id": "658daec5",
   "metadata": {},
   "outputs": [
    {
     "name": "stdout",
     "output_type": "stream",
     "text": [
      "['rat']\n"
     ]
    }
   ],
   "source": [
    "import regex as re\n",
    "\n",
    "def find_pat(text):\n",
    "    # The pattern '\\b\\w{3}$' matches:\n",
    "    # '\\b' asserts a word boundary\n",
    "    # '\\w{3}' matches exactly three word characters\n",
    "    # '$' asserts the end of the line\n",
    "    return re.findall(r'\\b\\w{3}\\b$', text)\n",
    "    \n",
    "# Define the sample text\n",
    "text = \"cat sat on a mat ate a fat rat\"\n",
    "\n",
    "# Call the find_pat function and store the result in the result variable\n",
    "result = find_pat(text)\n",
    "print(result)\n"
   ]
  },
  {
   "cell_type": "code",
   "execution_count": null,
   "id": "3f8daf02",
   "metadata": {},
   "outputs": [],
   "source": []
  },
  {
   "cell_type": "code",
   "execution_count": null,
   "id": "edd351b1",
   "metadata": {},
   "outputs": [],
   "source": []
  }
 ],
 "metadata": {
  "kernelspec": {
   "display_name": "Python 3 (ipykernel)",
   "language": "python",
   "name": "python3"
  },
  "language_info": {
   "codemirror_mode": {
    "name": "ipython",
    "version": 3
   },
   "file_extension": ".py",
   "mimetype": "text/x-python",
   "name": "python",
   "nbconvert_exporter": "python",
   "pygments_lexer": "ipython3",
   "version": "3.10.9"
  }
 },
 "nbformat": 4,
 "nbformat_minor": 5
}
