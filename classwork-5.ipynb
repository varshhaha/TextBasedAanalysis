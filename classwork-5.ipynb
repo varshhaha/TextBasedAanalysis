{
 "cells": [
  {
   "cell_type": "markdown",
   "id": "484a85f4-7d0d-4a8b-95dd-def70e9801f8",
   "metadata": {},
   "source": [
    "## Opening the file"
   ]
  },
  {
   "cell_type": "code",
   "execution_count": 11,
   "id": "491d9f18-980f-45bd-8fc0-7fa51411140f",
   "metadata": {},
   "outputs": [
    {
     "data": {
      "text/html": [
       "<div>\n",
       "<style scoped>\n",
       "    .dataframe tbody tr th:only-of-type {\n",
       "        vertical-align: middle;\n",
       "    }\n",
       "\n",
       "    .dataframe tbody tr th {\n",
       "        vertical-align: top;\n",
       "    }\n",
       "\n",
       "    .dataframe thead th {\n",
       "        text-align: right;\n",
       "    }\n",
       "</style>\n",
       "<table border=\"1\" class=\"dataframe\">\n",
       "  <thead>\n",
       "    <tr style=\"text-align: right;\">\n",
       "      <th></th>\n",
       "      <th>overall</th>\n",
       "      <th>verified</th>\n",
       "      <th>reviewerID</th>\n",
       "      <th>asin</th>\n",
       "      <th>reviewText</th>\n",
       "      <th>summary</th>\n",
       "    </tr>\n",
       "  </thead>\n",
       "  <tbody>\n",
       "    <tr>\n",
       "      <th>449478</th>\n",
       "      <td>4</td>\n",
       "      <td>True</td>\n",
       "      <td>A3CS2KV9LXO1H</td>\n",
       "      <td>B006PGEPM2</td>\n",
       "      <td>Works rather well for a commercial version of ...</td>\n",
       "      <td>Works fine</td>\n",
       "    </tr>\n",
       "    <tr>\n",
       "      <th>225741</th>\n",
       "      <td>5</td>\n",
       "      <td>True</td>\n",
       "      <td>A17LLJBKXPHDHP</td>\n",
       "      <td>B0053TN3F2</td>\n",
       "      <td>This is a great set to use and the box is well...</td>\n",
       "      <td>This is a wonderful set to work with</td>\n",
       "    </tr>\n",
       "    <tr>\n",
       "      <th>491735</th>\n",
       "      <td>5</td>\n",
       "      <td>True</td>\n",
       "      <td>AYJV5ASYGCKI9</td>\n",
       "      <td>B01BMQ33PE</td>\n",
       "      <td>I have purchased a lot of stabilizer in my day...</td>\n",
       "      <td>Feels so soft but strong</td>\n",
       "    </tr>\n",
       "    <tr>\n",
       "      <th>424197</th>\n",
       "      <td>3</td>\n",
       "      <td>True</td>\n",
       "      <td>A3MMJ6C99ZTGG9</td>\n",
       "      <td>B000YZ8N46</td>\n",
       "      <td>Just received and have used once already. Seem...</td>\n",
       "      <td>Three Stars</td>\n",
       "    </tr>\n",
       "    <tr>\n",
       "      <th>140061</th>\n",
       "      <td>5</td>\n",
       "      <td>True</td>\n",
       "      <td>A1BC0UNJZTM3GZ</td>\n",
       "      <td>B001C26RFM</td>\n",
       "      <td>good stuff</td>\n",
       "      <td>Five Stars</td>\n",
       "    </tr>\n",
       "    <tr>\n",
       "      <th>396072</th>\n",
       "      <td>5</td>\n",
       "      <td>False</td>\n",
       "      <td>A23I74FX8I99S5</td>\n",
       "      <td>B018INJ8U8</td>\n",
       "      <td>Blades function excellently!</td>\n",
       "      <td>Five Stars</td>\n",
       "    </tr>\n",
       "    <tr>\n",
       "      <th>238600</th>\n",
       "      <td>5</td>\n",
       "      <td>True</td>\n",
       "      <td>A2CUE2FCSTRIG2</td>\n",
       "      <td>B005RE4AC8</td>\n",
       "      <td>I love this string. It is strong and braids wi...</td>\n",
       "      <td>Great to have different colors</td>\n",
       "    </tr>\n",
       "    <tr>\n",
       "      <th>171557</th>\n",
       "      <td>3</td>\n",
       "      <td>True</td>\n",
       "      <td>A3KZB0DQFYYA8Z</td>\n",
       "      <td>B0027AAIB2</td>\n",
       "      <td>tracing paper is tracing paper.  it is hand fo...</td>\n",
       "      <td>Better in the pad than loose leafs</td>\n",
       "    </tr>\n",
       "    <tr>\n",
       "      <th>232533</th>\n",
       "      <td>3</td>\n",
       "      <td>True</td>\n",
       "      <td>A1HSJNQ2RTOG2F</td>\n",
       "      <td>B005G890UM</td>\n",
       "      <td>some times i have to rub like crazy to get it ...</td>\n",
       "      <td>Three Stars</td>\n",
       "    </tr>\n",
       "    <tr>\n",
       "      <th>233057</th>\n",
       "      <td>5</td>\n",
       "      <td>True</td>\n",
       "      <td>A36FVWJ2SZQ6NH</td>\n",
       "      <td>B005GYJZMY</td>\n",
       "      <td>Bought for daughter. She loves all the colors.</td>\n",
       "      <td>Nice colors selection</td>\n",
       "    </tr>\n",
       "  </tbody>\n",
       "</table>\n",
       "</div>"
      ],
      "text/plain": [
       "        overall  verified      reviewerID        asin  \\\n",
       "449478        4      True   A3CS2KV9LXO1H  B006PGEPM2   \n",
       "225741        5      True  A17LLJBKXPHDHP  B0053TN3F2   \n",
       "491735        5      True   AYJV5ASYGCKI9  B01BMQ33PE   \n",
       "424197        3      True  A3MMJ6C99ZTGG9  B000YZ8N46   \n",
       "140061        5      True  A1BC0UNJZTM3GZ  B001C26RFM   \n",
       "396072        5     False  A23I74FX8I99S5  B018INJ8U8   \n",
       "238600        5      True  A2CUE2FCSTRIG2  B005RE4AC8   \n",
       "171557        3      True  A3KZB0DQFYYA8Z  B0027AAIB2   \n",
       "232533        3      True  A1HSJNQ2RTOG2F  B005G890UM   \n",
       "233057        5      True  A36FVWJ2SZQ6NH  B005GYJZMY   \n",
       "\n",
       "                                               reviewText  \\\n",
       "449478  Works rather well for a commercial version of ...   \n",
       "225741  This is a great set to use and the box is well...   \n",
       "491735  I have purchased a lot of stabilizer in my day...   \n",
       "424197  Just received and have used once already. Seem...   \n",
       "140061                                         good stuff   \n",
       "396072                       Blades function excellently!   \n",
       "238600  I love this string. It is strong and braids wi...   \n",
       "171557  tracing paper is tracing paper.  it is hand fo...   \n",
       "232533  some times i have to rub like crazy to get it ...   \n",
       "233057     Bought for daughter. She loves all the colors.   \n",
       "\n",
       "                                     summary  \n",
       "449478                            Works fine  \n",
       "225741  This is a wonderful set to work with  \n",
       "491735              Feels so soft but strong  \n",
       "424197                           Three Stars  \n",
       "140061                            Five Stars  \n",
       "396072                            Five Stars  \n",
       "238600        Great to have different colors  \n",
       "171557    Better in the pad than loose leafs  \n",
       "232533                           Three Stars  \n",
       "233057                 Nice colors selection  "
      ]
     },
     "execution_count": 11,
     "metadata": {},
     "output_type": "execute_result"
    }
   ],
   "source": [
    "import pandas as pd \n",
    "data = \"C:\\\\Users\\\\varsh\\\\Downloads\\\\Arts_Crafts_and_sewing_5.csv\"\n",
    "# reading the fie and print\n",
    "df = pd.read_csv(data)\n",
    "df.sample(10)"
   ]
  },
  {
   "cell_type": "markdown",
   "id": "f06d18eb-db41-4ffd-9ba0-2e2bf4687bb5",
   "metadata": {},
   "source": [
    "## Getting the Bing Liu Lexicon"
   ]
  },
  {
   "cell_type": "code",
   "execution_count": 12,
   "id": "02ab94ca-324a-4a97-b5b2-1e9602c3b188",
   "metadata": {},
   "outputs": [
    {
     "name": "stderr",
     "output_type": "stream",
     "text": [
      "[nltk_data] Downloading package opinion_lexicon to\n",
      "[nltk_data]     C:\\Users\\varsh\\AppData\\Roaming\\nltk_data...\n",
      "[nltk_data]   Package opinion_lexicon is already up-to-date!\n"
     ]
    }
   ],
   "source": [
    "from sklearn import preprocessing\n",
    "import nltk# Import the Natural Language Toolkit library\n",
    "nltk.download('opinion_lexicon')\n",
    "# Load positive and negative words from the opinion lexicon\n",
    "from nltk.corpus import opinion_lexicon\n",
    "from nltk.tokenize import word_tokenize"
   ]
  },
  {
   "cell_type": "code",
   "execution_count": 13,
   "id": "cbf9f3ba-4fea-4f81-82f1-7f8d9ad4f276",
   "metadata": {},
   "outputs": [
    {
     "name": "stdout",
     "output_type": "stream",
     "text": [
      "Total number of words in opinion lexicon 6789\n",
      "Examples of positive words in opinion lexicon ['a+', 'abound', 'abounds', 'abundance', 'abundant', 'accessable', 'accessible', 'acclaim', 'acclaimed', 'acclamation']\n",
      "Examples of negative words in opinion lexicon ['2-faced', '2-faces', 'abnormal', 'abolish', 'abominable', 'abominably', 'abominate', 'abomination', 'abort', 'aborted']\n"
     ]
    }
   ],
   "source": [
    "# Print the total number of words in the opinion lexicon\n",
    "print('Total number of words in opinion lexicon', len(opinion_lexicon.words()))\n",
    "print('Examples of positive words in opinion lexicon',\n",
    "opinion_lexicon.positive()[:10])\n",
    "print('Examples of negative words in opinion lexicon',\n",
    "opinion_lexicon.negative()[:10])"
   ]
  },
  {
   "cell_type": "code",
   "execution_count": 14,
   "id": "bac6dda3-43e3-4f4d-a089-f92e39433434",
   "metadata": {},
   "outputs": [
    {
     "name": "stderr",
     "output_type": "stream",
     "text": [
      "[nltk_data] Downloading package punkt to\n",
      "[nltk_data]     C:\\Users\\varsh\\AppData\\Roaming\\nltk_data...\n",
      "[nltk_data]   Package punkt is already up-to-date!\n"
     ]
    }
   ],
   "source": [
    "# Let's create a dictionary which we can use for scoring our review text\n",
    "nltk.download('punkt')\n",
    "df.rename(columns={\"reviewText\": \"text\"}, inplace=True)\n",
    "pos_score = 1\n",
    "neg_score = -1\n",
    "word_dict = {}\n"
   ]
  },
  {
   "cell_type": "code",
   "execution_count": 15,
   "id": "f04d8765-e037-4b79-a19a-a84f4d20f5fc",
   "metadata": {},
   "outputs": [],
   "source": [
    "# Adding the positive words to the dictionary\n",
    "for word in opinion_lexicon.positive():\n",
    " word_dict[word] = pos_score\n",
    "# Adding the negative words to the dictionary\n",
    "for word in opinion_lexicon.negative():\n",
    " word_dict[word] = neg_score"
   ]
  },
  {
   "cell_type": "markdown",
   "id": "90343299-8f4e-49e5-b4bc-9c8199eabe4e",
   "metadata": {},
   "source": [
    "## Function to do math"
   ]
  },
  {
   "cell_type": "code",
   "execution_count": 24,
   "id": "2246a30d-f831-4152-9b7d-55c4bbaa40ef",
   "metadata": {},
   "outputs": [],
   "source": [
    "def bing_liu_score(text):\n",
    "    sentiment_score = 0\n",
    "    bag_of_words = word_tokenize(text.lower())\n",
    "    for word in bag_of_words:\n",
    "        if word in word_dict:\n",
    "            sentiment_score += word_dict[word]\n",
    "    return sentiment_score"
   ]
  },
  {
   "cell_type": "markdown",
   "id": "ce05b1c1-6493-40f2-ba94-e4ff8a0f3946",
   "metadata": {},
   "source": [
    "## Making sure all texts are non empty and are type text then call the function"
   ]
  },
  {
   "cell_type": "code",
   "execution_count": 25,
   "id": "ce9067a2-2508-430e-8495-1f58b5e835e8",
   "metadata": {},
   "outputs": [],
   "source": [
    "# Fill missing values in the 'text' column with 'no review'\n",
    "df['text'].fillna('no review', inplace=True)\n",
    "df['Bing_Liu_Score'] = df['text'].apply(bing_liu_score)\n"
   ]
  },
  {
   "cell_type": "code",
   "execution_count": 26,
   "id": "fdcdb28f-b520-4730-ac80-f318e7287a1a",
   "metadata": {},
   "outputs": [
    {
     "data": {
      "text/html": [
       "<div>\n",
       "<style scoped>\n",
       "    .dataframe tbody tr th:only-of-type {\n",
       "        vertical-align: middle;\n",
       "    }\n",
       "\n",
       "    .dataframe tbody tr th {\n",
       "        vertical-align: top;\n",
       "    }\n",
       "\n",
       "    .dataframe thead th {\n",
       "        text-align: right;\n",
       "    }\n",
       "</style>\n",
       "<table border=\"1\" class=\"dataframe\">\n",
       "  <thead>\n",
       "    <tr style=\"text-align: right;\">\n",
       "      <th></th>\n",
       "      <th>overall</th>\n",
       "      <th>text</th>\n",
       "      <th>Bing_Liu_Score</th>\n",
       "    </tr>\n",
       "  </thead>\n",
       "  <tbody>\n",
       "    <tr>\n",
       "      <th>0</th>\n",
       "      <td>4</td>\n",
       "      <td>Contains some interesting stitches.</td>\n",
       "      <td>1</td>\n",
       "    </tr>\n",
       "    <tr>\n",
       "      <th>1</th>\n",
       "      <td>5</td>\n",
       "      <td>I'm a fairly experienced knitter of the one-co...</td>\n",
       "      <td>22</td>\n",
       "    </tr>\n",
       "    <tr>\n",
       "      <th>2</th>\n",
       "      <td>4</td>\n",
       "      <td>Great book but the index is terrible. Had to w...</td>\n",
       "      <td>0</td>\n",
       "    </tr>\n",
       "    <tr>\n",
       "      <th>3</th>\n",
       "      <td>5</td>\n",
       "      <td>I purchased the Kindle edition which is incred...</td>\n",
       "      <td>4</td>\n",
       "    </tr>\n",
       "    <tr>\n",
       "      <th>4</th>\n",
       "      <td>5</td>\n",
       "      <td>Very well laid out and very easy to read.\\n\\nT...</td>\n",
       "      <td>5</td>\n",
       "    </tr>\n",
       "    <tr>\n",
       "      <th>5</th>\n",
       "      <td>5</td>\n",
       "      <td>Beginning her career as a freelance knitter, M...</td>\n",
       "      <td>15</td>\n",
       "    </tr>\n",
       "    <tr>\n",
       "      <th>6</th>\n",
       "      <td>5</td>\n",
       "      <td>This is a terrific stitch handbook (and I have...</td>\n",
       "      <td>9</td>\n",
       "    </tr>\n",
       "    <tr>\n",
       "      <th>7</th>\n",
       "      <td>4</td>\n",
       "      <td>The book needs to be coil bound. The content i...</td>\n",
       "      <td>1</td>\n",
       "    </tr>\n",
       "    <tr>\n",
       "      <th>8</th>\n",
       "      <td>5</td>\n",
       "      <td>I really am enjoying this book! I like the siz...</td>\n",
       "      <td>12</td>\n",
       "    </tr>\n",
       "    <tr>\n",
       "      <th>9</th>\n",
       "      <td>5</td>\n",
       "      <td>Just received this book and looked over it cov...</td>\n",
       "      <td>6</td>\n",
       "    </tr>\n",
       "  </tbody>\n",
       "</table>\n",
       "</div>"
      ],
      "text/plain": [
       "   overall                                               text  Bing_Liu_Score\n",
       "0        4                Contains some interesting stitches.               1\n",
       "1        5  I'm a fairly experienced knitter of the one-co...              22\n",
       "2        4  Great book but the index is terrible. Had to w...               0\n",
       "3        5  I purchased the Kindle edition which is incred...               4\n",
       "4        5  Very well laid out and very easy to read.\\n\\nT...               5\n",
       "5        5  Beginning her career as a freelance knitter, M...              15\n",
       "6        5  This is a terrific stitch handbook (and I have...               9\n",
       "7        4  The book needs to be coil bound. The content i...               1\n",
       "8        5  I really am enjoying this book! I like the siz...              12\n",
       "9        5  Just received this book and looked over it cov...               6"
      ]
     },
     "execution_count": 26,
     "metadata": {},
     "output_type": "execute_result"
    }
   ],
   "source": [
    "df[['overall',\"text\", 'Bing_Liu_Score']].head(10)"
   ]
  },
  {
   "cell_type": "code",
   "execution_count": 27,
   "id": "8c74fd05-f793-41b4-b0ff-ec26c1482248",
   "metadata": {},
   "outputs": [
    {
     "data": {
      "text/html": [
       "<div>\n",
       "<style scoped>\n",
       "    .dataframe tbody tr th:only-of-type {\n",
       "        vertical-align: middle;\n",
       "    }\n",
       "\n",
       "    .dataframe tbody tr th {\n",
       "        vertical-align: top;\n",
       "    }\n",
       "\n",
       "    .dataframe thead th {\n",
       "        text-align: right;\n",
       "    }\n",
       "</style>\n",
       "<table border=\"1\" class=\"dataframe\">\n",
       "  <thead>\n",
       "    <tr style=\"text-align: right;\">\n",
       "      <th></th>\n",
       "      <th>Bing_Liu_Score</th>\n",
       "    </tr>\n",
       "    <tr>\n",
       "      <th>overall</th>\n",
       "      <th></th>\n",
       "    </tr>\n",
       "  </thead>\n",
       "  <tbody>\n",
       "    <tr>\n",
       "      <th>1</th>\n",
       "      <td>-0.255049</td>\n",
       "    </tr>\n",
       "    <tr>\n",
       "      <th>2</th>\n",
       "      <td>0.566098</td>\n",
       "    </tr>\n",
       "    <tr>\n",
       "      <th>3</th>\n",
       "      <td>1.158796</td>\n",
       "    </tr>\n",
       "    <tr>\n",
       "      <th>4</th>\n",
       "      <td>2.027999</td>\n",
       "    </tr>\n",
       "    <tr>\n",
       "      <th>5</th>\n",
       "      <td>2.129986</td>\n",
       "    </tr>\n",
       "  </tbody>\n",
       "</table>\n",
       "</div>"
      ],
      "text/plain": [
       "         Bing_Liu_Score\n",
       "overall                \n",
       "1             -0.255049\n",
       "2              0.566098\n",
       "3              1.158796\n",
       "4              2.027999\n",
       "5              2.129986"
      ]
     },
     "execution_count": 27,
     "metadata": {},
     "output_type": "execute_result"
    }
   ],
   "source": [
    "df.groupby('overall').agg({'Bing_Liu_Score':'mean'})"
   ]
  },
  {
   "cell_type": "code",
   "execution_count": null,
   "id": "fd7ec1cd-5c61-4b98-9a6e-53b90250b2f0",
   "metadata": {},
   "outputs": [],
   "source": []
  },
  {
   "cell_type": "code",
   "execution_count": null,
   "id": "93b9f93c",
   "metadata": {},
   "outputs": [],
   "source": []
  }
 ],
 "metadata": {
  "kernelspec": {
   "display_name": "Python 3 (ipykernel)",
   "language": "python",
   "name": "python3"
  },
  "language_info": {
   "codemirror_mode": {
    "name": "ipython",
    "version": 3
   },
   "file_extension": ".py",
   "mimetype": "text/x-python",
   "name": "python",
   "nbconvert_exporter": "python",
   "pygments_lexer": "ipython3",
   "version": "3.10.9"
  }
 },
 "nbformat": 4,
 "nbformat_minor": 5
}
